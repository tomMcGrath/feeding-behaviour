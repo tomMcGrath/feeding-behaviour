{
 "cells": [
  {
   "cell_type": "code",
   "execution_count": 3,
   "metadata": {},
   "outputs": [
    {
     "data": {
      "text/plain": [
       "<module 'helpers' from 'helpers.pyc'>"
      ]
     },
     "execution_count": 3,
     "metadata": {},
     "output_type": "execute_result"
    }
   ],
   "source": [
    "import numpy as np\n",
    "import matplotlib.pyplot as plt\n",
    "import os\n",
    "import matplotlib as mpl\n",
    "import matplotlib.cm as cm\n",
    "import cPickle as pickle\n",
    "import helpers\n",
    "import plots\n",
    "import pandas as pd\n",
    "import glob\n",
    "reload(plots)\n",
    "reload(helpers)"
   ]
  },
  {
   "cell_type": "markdown",
   "metadata": {},
   "source": [
    "# Figure preliminaries notebook\n",
    "\n",
    "The aim of this notebook is just to collect together the relevant data into a single dataframe to speed up plotting in the other notebooks. \n",
    "\n",
    "The notebook loads the traces and creates a dataframe for each, before concatenating these dataframes, storing plotting information (colour, marker style) and pickling the result. This can then be loaded in the other notebooks."
   ]
  },
  {
   "cell_type": "code",
   "execution_count": 4,
   "metadata": {
    "scrolled": false
   },
   "outputs": [
    {
     "name": "stdout",
     "output_type": "stream",
     "text": [
      "Loading traces for traces/GLP-1_300.0_A_D_trace.p\n",
      "Loading traces for traces/saline_0.0_A_D_trace.p\n",
      "Loading traces for traces/PYY_7.5_A_D_trace.p\n",
      "Loading traces for traces/LiCl_64.0_R_L_trace.p\n",
      "Loading traces for traces/saline_0.0_R_D_trace.p\n",
      "Loading traces for traces/Lep_2.0_A_D_trace.p\n",
      "Loading traces for traces/PYY_300.0_A_D_trace.p\n",
      "Loading traces for traces/PYY_300.0_R_L_trace.p\n",
      "Loading traces for traces/PYY_7.5_R_L_trace.p\n",
      "Loading traces for traces/GLP-1_30.0_A_D_trace.p\n",
      "Loading traces for traces/GLP-1_100.0_A_D_trace.p\n",
      "Loading traces for traces/PYY_1.5_A_D_trace.p\n",
      "Loading traces for traces/saline_0.0_A_L_trace.p\n",
      "Loading traces for traces/LiCl_32.0_R_L_trace.p\n",
      "Loading traces for traces/saline_0.0_R_L_trace.p\n",
      "Loading traces for traces/PYY_1.5_R_L_trace.p\n"
     ]
    }
   ],
   "source": [
    "reload(helpers)\n",
    "\n",
    "num_samples = 1000\n",
    "\n",
    "## Make list of traces and filenames\n",
    "tracelist = glob.glob('traces/*trace.p')\n",
    "filenamelist = []\n",
    "for trace in tracelist:\n",
    "    filename = trace.split('/')[0]+'/'+trace.split('/')[1].replace('trace', 'filenames')\n",
    "    filenamelist.append(filename)\n",
    "    \n",
    "## Build dataframe of posterior means\n",
    "thetas = ['theta1', 'theta2', 'theta3', 'theta4', 'theta5', 'theta6', 'theta7', 'theta8']\n",
    "dfs = []\n",
    "indiv_dict = {}\n",
    "group_dict = {}\n",
    "for i, tracename in enumerate(tracelist):\n",
    "    print 'Loading traces for %s' %(tracename)\n",
    "    trace = pickle.load(open(tracename, 'rb'))\n",
    "    subjs = pickle.load(open(filenamelist[i], 'rb'))\n",
    "    \n",
    "    df = helpers.make_single_pm_df(trace, subjs, thetas)\n",
    "    \n",
    "    indiv_dict = helpers.add_post_sample_dict(indiv_dict,\n",
    "                                             trace,\n",
    "                                             subjs,\n",
    "                                             thetas,\n",
    "                                             num_samples=num_samples)\n",
    "    \n",
    "    group_dict = helpers.add_group_post_dict(group_dict,\n",
    "                                             trace,\n",
    "                                             tracename,\n",
    "                                             num_samples=num_samples)\n",
    "    dfs.append(df)"
   ]
  },
  {
   "cell_type": "code",
   "execution_count": 5,
   "metadata": {},
   "outputs": [],
   "source": [
    "## Concatenate dataframes\n",
    "full_df = pd.concat(dfs, ignore_index=True)\n",
    "\n",
    "## Convert to numeric dtype\n",
    "to_convert = thetas + ['dose', 'id', 'duration', 'rate']\n",
    "full_df[to_convert] = full_df[to_convert].apply(pd.to_numeric)\n",
    "\n",
    "## Store marker colour for drugs\n",
    "def get_drug_colour(row):\n",
    "    data = [row['drug'], row['dose'], row['adlib'], row['period']]\n",
    "    return helpers.get_colour(data)\n",
    "    \n",
    "full_df['drug_c'] = full_df.apply(get_drug_colour, axis=1)\n",
    "\n",
    "## Store marker colour for normalised intake\n",
    "ratemin = full_df['rate'].min()\n",
    "ratemax = full_df['rate'].max()\n",
    "\n",
    "rate_norm = mpl.colors.Normalize(vmin = ratemin,\n",
    "                                 vmax = ratemax)\n",
    "\n",
    "cmap = cm.ScalarMappable(norm=rate_norm, cmap=cm.plasma)\n",
    "\n",
    "def get_rate_colour(row):\n",
    "    return cmap.to_rgba(row['rate'])\n",
    "\n",
    "full_df['rate_c'] = full_df.apply(get_rate_colour, axis=1)\n",
    "\n",
    "## Store marker style\n",
    "def get_ms(row):\n",
    "    if row['period'] == 'D':\n",
    "        return '^'\n",
    "    \n",
    "    else:\n",
    "        return 'o'\n",
    "    \n",
    "full_df['ms'] = full_df.apply(get_ms, axis=1)"
   ]
  },
  {
   "cell_type": "code",
   "execution_count": 6,
   "metadata": {},
   "outputs": [],
   "source": [
    "## Pickle the result\n",
    "pickle.dump(full_df, open('pm_df.p', 'wb'))\n",
    "pickle.dump(indiv_dict, open('indiv_dict.p', 'wb'))\n",
    "pickle.dump(group_dict, open('group_dict.p', 'wb'))"
   ]
  },
  {
   "cell_type": "markdown",
   "metadata": {},
   "source": [
    "## Verify the sample dictionary represents the full posterior well"
   ]
  },
  {
   "cell_type": "code",
   "execution_count": 7,
   "metadata": {},
   "outputs": [
    {
     "data": {
      "image/png": "[encoded data removed]",
      "text/plain": [
       "<Figure size 360x360 with 1 Axes>"
      ]
     },
     "metadata": {},
     "output_type": "display_data"
    }
   ],
   "source": [
    "reload(plots)\n",
    "reload(helpers)\n",
    "\n",
    "thetas = ['theta1', 'theta2', 'theta3', 'theta4', 'theta5', 'theta6', 'theta7', 'theta8']\n",
    "plots.compare_sample(full_df, indiv_dict, thetas, 7)\n",
    "plt.show()"
   ]
  },
  {
   "cell_type": "code",
   "execution_count": 8,
   "metadata": {},
   "outputs": [
    {
     "ename": "NameError",
     "evalue": "name 'data_dict' is not defined",
     "output_type": "error",
     "traceback": [
      "\u001b[0;31m---------------------------------------------------------------------------\u001b[0m",
      "\u001b[0;31mNameError\u001b[0m                                 Traceback (most recent call last)",
      "\u001b[0;32m<ipython-input-8-88c9b3a67e1f>\u001b[0m in \u001b[0;36m<module>\u001b[0;34m()\u001b[0m\n\u001b[0;32m----> 1\u001b[0;31m \u001b[0;32mprint\u001b[0m \u001b[0mdata_dict\u001b[0m\u001b[0;34m[\u001b[0m\u001b[0mdata_dict\u001b[0m\u001b[0;34m.\u001b[0m\u001b[0mkeys\u001b[0m\u001b[0;34m(\u001b[0m\u001b[0;34m)\u001b[0m\u001b[0;34m[\u001b[0m\u001b[0;36m0\u001b[0m\u001b[0;34m]\u001b[0m\u001b[0;34m]\u001b[0m\u001b[0;34m.\u001b[0m\u001b[0mshape\u001b[0m\u001b[0;34m\u001b[0m\u001b[0m\n\u001b[0m",
      "\u001b[0;31mNameError\u001b[0m: name 'data_dict' is not defined"
     ]
    }
   ],
   "source": [
    "print data_dict[data_dict.keys()[0]].shape"
   ]
  },
  {
   "cell_type": "code",
   "execution_count": null,
   "metadata": {},
   "outputs": [],
   "source": [
    "reload(helpers)\n",
    "\n",
    "data_dict = {}\n",
    "data_dict = helpers.add_group_post_dict(data_dict, trace, tracename)\n",
    "print data_dict.keys()"
   ]
  },
  {
   "cell_type": "code",
   "execution_count": null,
   "metadata": {},
   "outputs": [],
   "source": []
  }
 ],
 "metadata": {
  "kernelspec": {
   "display_name": "Python 2",
   "language": "python",
   "name": "python2"
  },
  "language_info": {
   "codemirror_mode": {
    "name": "ipython",
    "version": 2
   },
   "file_extension": ".py",
   "mimetype": "text/x-python",
   "name": "python",
   "nbconvert_exporter": "python",
   "pygments_lexer": "ipython2",
   "version": "2.7.15"
  }
 },
 "nbformat": 4,
 "nbformat_minor": 2
}
